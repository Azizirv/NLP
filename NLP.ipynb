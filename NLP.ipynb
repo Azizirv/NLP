{
  "nbformat": 4,
  "nbformat_minor": 0,
  "metadata": {
    "colab": {
      "provenance": [],
      "toc_visible": true
    },
    "kernelspec": {
      "name": "python3",
      "display_name": "Python 3"
    },
    "accelerator": "GPU"
  },
  "cells": [
    {
      "cell_type": "markdown",
      "metadata": {
        "id": "RzGwQ0md9MhA"
      },
      "source": [
        "Introduction to Google Colab by Howsam AI Academy"
      ]
    },
    {
      "cell_type": "code",
      "metadata": {
        "id": "qrEq6-Kxqkr5",
        "colab": {
          "base_uri": "https://localhost:8080/"
        },
        "outputId": "dd402738-72ca-4cc0-c659-d8498e8d0e1a"
      },
      "source": [
        "from transformers import pipeline\n",
        "\n",
        "classifier = pipeline(task=\"text-classification\", model=\"SamLowe/roberta-base-go_emotions\", top_k=None)\n",
        "\n",
        "sentences = [\"I am not having a great day\"]\n",
        "\n",
        "model_outputs = classifier(sentences)\n",
        "print(model_outputs[0])\n",
        "# produces a list of dicts for each of the labels\n"
      ],
      "execution_count": 12,
      "outputs": [
        {
          "output_type": "stream",
          "name": "stdout",
          "text": [
            "[{'label': 'disappointment', 'score': 0.4666956663131714}, {'label': 'sadness', 'score': 0.3984948396682739}, {'label': 'annoyance', 'score': 0.06806602329015732}, {'label': 'neutral', 'score': 0.057030197232961655}, {'label': 'disapproval', 'score': 0.044239357113838196}, {'label': 'nervousness', 'score': 0.014850745908915997}, {'label': 'realization', 'score': 0.014059904962778091}, {'label': 'approval', 'score': 0.011267448775470257}, {'label': 'joy', 'score': 0.0063033816404640675}, {'label': 'remorse', 'score': 0.006221487186849117}, {'label': 'caring', 'score': 0.0060293967835605145}, {'label': 'embarrassment', 'score': 0.005265488289296627}, {'label': 'anger', 'score': 0.00498143769800663}, {'label': 'disgust', 'score': 0.004259035456925631}, {'label': 'grief', 'score': 0.004002132453024387}, {'label': 'confusion', 'score': 0.003382924711331725}, {'label': 'relief', 'score': 0.0031404944602400064}, {'label': 'desire', 'score': 0.0028274687938392162}, {'label': 'admiration', 'score': 0.002815792104229331}, {'label': 'fear', 'score': 0.0027075267862528563}, {'label': 'optimism', 'score': 0.0026164911687374115}, {'label': 'love', 'score': 0.0024883933365345}, {'label': 'excitement', 'score': 0.002449477557092905}, {'label': 'curiosity', 'score': 0.002374365460127592}, {'label': 'amusement', 'score': 0.0017466946737840772}, {'label': 'surprise', 'score': 0.001452987315133214}, {'label': 'gratitude', 'score': 0.0006464761681854725}, {'label': 'pride', 'score': 0.0005542492726817727}]\n"
          ]
        }
      ]
    }
  ]
}